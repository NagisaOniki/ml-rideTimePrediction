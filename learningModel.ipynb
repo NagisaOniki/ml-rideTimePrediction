{
 "cells": [
  {
   "cell_type": "code",
   "execution_count": 2,
   "metadata": {},
   "outputs": [],
   "source": [
    "import pandas as pd\n",
    "import numpy as np\n",
    "from matplotlib import pyplot as plt\n",
    "import datetime \n",
    "import swifter\n",
    "\n",
    "from sklearn.ensemble import RandomForestRegressor"
   ]
  },
  {
   "cell_type": "code",
   "execution_count": 3,
   "metadata": {},
   "outputs": [
    {
     "name": "stdout",
     "output_type": "stream",
     "text": [
      "(2544196, 9) (636049, 7)\n"
     ]
    }
   ],
   "source": [
    "# データ読み込み\n",
    "train = pd.read_csv('train.csv')\n",
    "fact = pd.read_csv('test.csv')\n",
    "\n",
    "print(train.shape,fact.shape)"
   ]
  },
  {
   "cell_type": "code",
   "execution_count": 4,
   "metadata": {},
   "outputs": [
    {
     "name": "stdout",
     "output_type": "stream",
     "text": [
      "<class 'pandas.core.frame.DataFrame'>\n",
      "RangeIndex: 2544196 entries, 0 to 2544195\n",
      "Data columns (total 9 columns):\n",
      "id                object\n",
      "pick_datetime     object\n",
      "pick_dayofweek    int64\n",
      "pick_latitude     float64\n",
      "pick_longitude    float64\n",
      "drop_datetime     object\n",
      "drop_dayofweek    int64\n",
      "drop_latitude     float64\n",
      "drop_longitude    float64\n",
      "dtypes: float64(4), int64(2), object(3)\n",
      "memory usage: 174.7+ MB\n"
     ]
    }
   ],
   "source": [
    "# データ確認\n",
    "train.info()"
   ]
  },
  {
   "cell_type": "code",
   "execution_count": 5,
   "metadata": {},
   "outputs": [
    {
     "name": "stdout",
     "output_type": "stream",
     "text": [
      "<class 'pandas.core.frame.DataFrame'>\n",
      "RangeIndex: 636049 entries, 0 to 636048\n",
      "Data columns (total 7 columns):\n",
      "id                636049 non-null object\n",
      "pick_datetime     636049 non-null object\n",
      "pick_dayofweek    636049 non-null int64\n",
      "pick_latitude     636049 non-null float64\n",
      "pick_longitude    636049 non-null float64\n",
      "drop_latitude     636049 non-null float64\n",
      "drop_longitude    636049 non-null float64\n",
      "dtypes: float64(4), int64(1), object(2)\n",
      "memory usage: 34.0+ MB\n"
     ]
    }
   ],
   "source": [
    "fact.info()"
   ]
  },
  {
   "cell_type": "code",
   "execution_count": 6,
   "metadata": {},
   "outputs": [],
   "source": [
    "# データ前処理"
   ]
  },
  {
   "cell_type": "code",
   "execution_count": 7,
   "metadata": {},
   "outputs": [
    {
     "name": "stdout",
     "output_type": "stream",
     "text": [
      "(2544194, 9) (636049, 7)\n"
     ]
    }
   ],
   "source": [
    "#＃　locationの外れ値処理\n",
    "train = train[train['pick_latitude'] >30]\n",
    "train = train[train['drop_latitude'] >30]\n",
    "\n",
    "print(train.shape,fact.shape)"
   ]
  },
  {
   "cell_type": "code",
   "execution_count": 8,
   "metadata": {},
   "outputs": [],
   "source": [
    "## 文字列型->datetime型へ変換\n",
    "train['pick_datetime'] = pd.to_datetime(train['pick_datetime'])\n",
    "train['drop_datetime'] = pd.to_datetime(train['drop_datetime'])\n",
    "fact['pick_datetime'] = pd.to_datetime(fact['pick_datetime'])\n"
   ]
  },
  {
   "cell_type": "code",
   "execution_count": 9,
   "metadata": {},
   "outputs": [
    {
     "data": {
      "application/vnd.jupyter.widget-view+json": {
       "model_id": "c9c48106008d4feb98387bddf31d7f60",
       "version_major": 2,
       "version_minor": 0
      },
      "text/plain": [
       "HBox(children=(IntProgress(value=0, description='Dask Apply', max=8, style=ProgressStyle(description_width='in…"
      ]
     },
     "metadata": {},
     "output_type": "display_data"
    },
    {
     "name": "stdout",
     "output_type": "stream",
     "text": [
      "\n"
     ]
    }
   ],
   "source": [
    "##　目的変数の設定\n",
    "\n",
    "def delta(t):\n",
    "    t1, t2 = t\n",
    "    delta = t2 - t1\n",
    "    return delta.total_seconds()\n",
    "\n",
    "### trip_duraction（単位:秒）を追加\n",
    "train['trip_duraction'] = train[['pick_datetime', 'drop_datetime']].swifter.apply(delta, axis=1)\n",
    "\n",
    "### drop_datetime , drop_dayofweek 削除\n",
    "train = train.drop('drop_datetime', axis=1)\n",
    "train = train.drop('drop_dayofweek', axis=1)\n",
    "\n",
    "### 目的変数と説明変数の分離\n",
    "target = train['trip_duraction']\n",
    "train = train.drop('trip_duraction', axis=1)"
   ]
  },
  {
   "cell_type": "code",
   "execution_count": 10,
   "metadata": {},
   "outputs": [
    {
     "data": {
      "text/html": [
       "<div>\n",
       "<style scoped>\n",
       "    .dataframe tbody tr th:only-of-type {\n",
       "        vertical-align: middle;\n",
       "    }\n",
       "\n",
       "    .dataframe tbody tr th {\n",
       "        vertical-align: top;\n",
       "    }\n",
       "\n",
       "    .dataframe thead th {\n",
       "        text-align: right;\n",
       "    }\n",
       "</style>\n",
       "<table border=\"1\" class=\"dataframe\">\n",
       "  <thead>\n",
       "    <tr style=\"text-align: right;\">\n",
       "      <th></th>\n",
       "      <th>id</th>\n",
       "      <th>pick_datetime</th>\n",
       "      <th>pick_dayofweek</th>\n",
       "      <th>pick_latitude</th>\n",
       "      <th>pick_longitude</th>\n",
       "      <th>drop_latitude</th>\n",
       "      <th>drop_longitude</th>\n",
       "    </tr>\n",
       "  </thead>\n",
       "  <tbody>\n",
       "    <tr>\n",
       "      <th>0</th>\n",
       "      <td>id_0000661020</td>\n",
       "      <td>2260-01-07 11:11:45</td>\n",
       "      <td>7</td>\n",
       "      <td>35.708821</td>\n",
       "      <td>139.754566</td>\n",
       "      <td>35.706122</td>\n",
       "      <td>139.768515</td>\n",
       "    </tr>\n",
       "    <tr>\n",
       "      <th>1</th>\n",
       "      <td>id_0002302407</td>\n",
       "      <td>2260-01-12 12:33:32</td>\n",
       "      <td>5</td>\n",
       "      <td>35.659465</td>\n",
       "      <td>139.722541</td>\n",
       "      <td>35.661145</td>\n",
       "      <td>139.730093</td>\n",
       "    </tr>\n",
       "    <tr>\n",
       "      <th>2</th>\n",
       "      <td>id_0000978303</td>\n",
       "      <td>2260-01-26 14:12:08</td>\n",
       "      <td>5</td>\n",
       "      <td>35.688164</td>\n",
       "      <td>139.771702</td>\n",
       "      <td>35.708068</td>\n",
       "      <td>139.732200</td>\n",
       "    </tr>\n",
       "  </tbody>\n",
       "</table>\n",
       "</div>"
      ],
      "text/plain": [
       "              id       pick_datetime  pick_dayofweek  pick_latitude  \\\n",
       "0  id_0000661020 2260-01-07 11:11:45               7      35.708821   \n",
       "1  id_0002302407 2260-01-12 12:33:32               5      35.659465   \n",
       "2  id_0000978303 2260-01-26 14:12:08               5      35.688164   \n",
       "\n",
       "   pick_longitude  drop_latitude  drop_longitude  \n",
       "0      139.754566      35.706122      139.768515  \n",
       "1      139.722541      35.661145      139.730093  \n",
       "2      139.771702      35.708068      139.732200  "
      ]
     },
     "execution_count": 10,
     "metadata": {},
     "output_type": "execute_result"
    }
   ],
   "source": [
    "train.head(3)"
   ]
  },
  {
   "cell_type": "code",
   "execution_count": 11,
   "metadata": {},
   "outputs": [],
   "source": [
    "## pick_datetime\n",
    "### 日付から年、月、日をそれぞれ分離\n",
    "# train['year'] = train['pick_datetime'].dt.year\n",
    "# train['month'] = train['pick_datetime'].dt.month\n",
    "# train['day'] = train['pick_datetime'].dt.day\n",
    "train['hour'] = train['pick_datetime'].dt.hour\n",
    "# train['minute'] = train['pick_datetime'].dt.minute\n",
    "# train['second'] = train['pick_datetime'].dt.second\n",
    "\n",
    "# fact['year'] = fact['pick_datetime'].dt.year\n",
    "# fact['month'] = fact['pick_datetime'].dt.month\n",
    "# fact['day'] = fact['pick_datetime'].dt.day\n",
    "fact['hour'] = fact['pick_datetime'].dt.hour\n",
    "# fact['minute'] = fact['pick_datetime'].dt.minute\n",
    "# fact['second'] = fact['pick_datetime'].dt.second\n",
    "\n",
    "### 元のpick_datetime削除\n",
    "train = train.drop('pick_datetime', axis=1)\n",
    "fact = fact.drop('pick_datetime', axis=1)\n"
   ]
  },
  {
   "cell_type": "code",
   "execution_count": 12,
   "metadata": {},
   "outputs": [],
   "source": [
    "# hour　を　morning(5-11),afternoon(11-16),evening(16-18),night(18-24),deepnight(24-5)に分割\n",
    "\n",
    "\n"
   ]
  },
  {
   "cell_type": "code",
   "execution_count": 13,
   "metadata": {},
   "outputs": [],
   "source": [
    "# dayofweek を weekdays(平日)とweekends(土日)に分割\n",
    "train['pick_dayofweek'] = train['pick_dayofweek'].replace({1: 'sunday' , 2:'weekdays', 3:'weekdays', 4:'weekdays', 5:'weekdays', 6:'friday', 7:'saturday'})\n",
    "\n",
    "fact['pick_dayofweek'] = fact['pick_dayofweek'].replace({1: 'sunday' , 2:'weekdays', 3:'weekdays', 4:'weekdays', 5:'weekdays', 6:'friday', 7:'saturday'})\n"
   ]
  },
  {
   "cell_type": "code",
   "execution_count": 14,
   "metadata": {},
   "outputs": [],
   "source": [
    "# type(train['day'][0])"
   ]
  },
  {
   "cell_type": "code",
   "execution_count": 15,
   "metadata": {},
   "outputs": [],
   "source": [
    "# dayを月末と月初に変換\n",
    "# train['day'].where( train['day'] <= 5 , '月初' , inplace=True)\n",
    "# train['day'].where( 5 < train['day'] < 25 , '中旬' , inplace=True)\n",
    "# train['day'].where( train['day'] >= 25 , '月末' , inplace=True)\n",
    "\n",
    "\n",
    "\n",
    "# train.loc[train['day'] < 5] = '月初'\n",
    "# train.loc[train['day'] >= 25] = '月末'\n",
    "# train.loc[5 < train['day'] < 25] = '中旬'\n",
    "\n",
    "# fact.loc[train['day'] <= 5] = '月初'\n",
    "# fact.loc[train['day'] >= 25] = '月末'\n",
    "# fact.loc[5 < train['day'] < 25] = '中旬'\n"
   ]
  },
  {
   "cell_type": "code",
   "execution_count": 16,
   "metadata": {},
   "outputs": [],
   "source": [
    "## idの削除\n",
    "train = train.drop('id', axis=1)\n",
    "\n",
    "submit = pd.DataFrame()\n",
    "submit['id'] = fact['id']\n",
    "fact = fact.drop('id', axis=1)\n"
   ]
  },
  {
   "cell_type": "code",
   "execution_count": 17,
   "metadata": {},
   "outputs": [
    {
     "data": {
      "text/html": [
       "<div>\n",
       "<style scoped>\n",
       "    .dataframe tbody tr th:only-of-type {\n",
       "        vertical-align: middle;\n",
       "    }\n",
       "\n",
       "    .dataframe tbody tr th {\n",
       "        vertical-align: top;\n",
       "    }\n",
       "\n",
       "    .dataframe thead th {\n",
       "        text-align: right;\n",
       "    }\n",
       "</style>\n",
       "<table border=\"1\" class=\"dataframe\">\n",
       "  <thead>\n",
       "    <tr style=\"text-align: right;\">\n",
       "      <th></th>\n",
       "      <th>pick_dayofweek</th>\n",
       "      <th>pick_latitude</th>\n",
       "      <th>pick_longitude</th>\n",
       "      <th>drop_latitude</th>\n",
       "      <th>drop_longitude</th>\n",
       "      <th>hour</th>\n",
       "    </tr>\n",
       "  </thead>\n",
       "  <tbody>\n",
       "    <tr>\n",
       "      <th>0</th>\n",
       "      <td>saturday</td>\n",
       "      <td>35.708821</td>\n",
       "      <td>139.754566</td>\n",
       "      <td>35.706122</td>\n",
       "      <td>139.768515</td>\n",
       "      <td>11</td>\n",
       "    </tr>\n",
       "    <tr>\n",
       "      <th>1</th>\n",
       "      <td>weekdays</td>\n",
       "      <td>35.659465</td>\n",
       "      <td>139.722541</td>\n",
       "      <td>35.661145</td>\n",
       "      <td>139.730093</td>\n",
       "      <td>12</td>\n",
       "    </tr>\n",
       "    <tr>\n",
       "      <th>2</th>\n",
       "      <td>weekdays</td>\n",
       "      <td>35.688164</td>\n",
       "      <td>139.771702</td>\n",
       "      <td>35.708068</td>\n",
       "      <td>139.732200</td>\n",
       "      <td>14</td>\n",
       "    </tr>\n",
       "  </tbody>\n",
       "</table>\n",
       "</div>"
      ],
      "text/plain": [
       "  pick_dayofweek  pick_latitude  pick_longitude  drop_latitude  \\\n",
       "0       saturday      35.708821      139.754566      35.706122   \n",
       "1       weekdays      35.659465      139.722541      35.661145   \n",
       "2       weekdays      35.688164      139.771702      35.708068   \n",
       "\n",
       "   drop_longitude  hour  \n",
       "0      139.768515    11  \n",
       "1      139.730093    12  \n",
       "2      139.732200    14  "
      ]
     },
     "execution_count": 17,
     "metadata": {},
     "output_type": "execute_result"
    }
   ],
   "source": [
    "train.head(3)"
   ]
  },
  {
   "cell_type": "code",
   "execution_count": 18,
   "metadata": {},
   "outputs": [
    {
     "data": {
      "text/html": [
       "<div>\n",
       "<style scoped>\n",
       "    .dataframe tbody tr th:only-of-type {\n",
       "        vertical-align: middle;\n",
       "    }\n",
       "\n",
       "    .dataframe tbody tr th {\n",
       "        vertical-align: top;\n",
       "    }\n",
       "\n",
       "    .dataframe thead th {\n",
       "        text-align: right;\n",
       "    }\n",
       "</style>\n",
       "<table border=\"1\" class=\"dataframe\">\n",
       "  <thead>\n",
       "    <tr style=\"text-align: right;\">\n",
       "      <th></th>\n",
       "      <th>pick_dayofweek</th>\n",
       "      <th>pick_latitude</th>\n",
       "      <th>pick_longitude</th>\n",
       "      <th>drop_latitude</th>\n",
       "      <th>drop_longitude</th>\n",
       "      <th>hour</th>\n",
       "    </tr>\n",
       "  </thead>\n",
       "  <tbody>\n",
       "    <tr>\n",
       "      <th>0</th>\n",
       "      <td>weekdays</td>\n",
       "      <td>35.654196</td>\n",
       "      <td>139.722224</td>\n",
       "      <td>35.682485</td>\n",
       "      <td>139.763255</td>\n",
       "      <td>23</td>\n",
       "    </tr>\n",
       "    <tr>\n",
       "      <th>1</th>\n",
       "      <td>weekdays</td>\n",
       "      <td>35.659671</td>\n",
       "      <td>139.695681</td>\n",
       "      <td>35.682289</td>\n",
       "      <td>139.682441</td>\n",
       "      <td>12</td>\n",
       "    </tr>\n",
       "    <tr>\n",
       "      <th>2</th>\n",
       "      <td>friday</td>\n",
       "      <td>35.658575</td>\n",
       "      <td>139.697312</td>\n",
       "      <td>35.661905</td>\n",
       "      <td>139.729502</td>\n",
       "      <td>13</td>\n",
       "    </tr>\n",
       "  </tbody>\n",
       "</table>\n",
       "</div>"
      ],
      "text/plain": [
       "  pick_dayofweek  pick_latitude  pick_longitude  drop_latitude  \\\n",
       "0       weekdays      35.654196      139.722224      35.682485   \n",
       "1       weekdays      35.659671      139.695681      35.682289   \n",
       "2         friday      35.658575      139.697312      35.661905   \n",
       "\n",
       "   drop_longitude  hour  \n",
       "0      139.763255    23  \n",
       "1      139.682441    12  \n",
       "2      139.729502    13  "
      ]
     },
     "execution_count": 18,
     "metadata": {},
     "output_type": "execute_result"
    }
   ],
   "source": [
    "fact.head(3)"
   ]
  },
  {
   "cell_type": "code",
   "execution_count": 19,
   "metadata": {},
   "outputs": [
    {
     "data": {
      "text/plain": [
       "0    316.0\n",
       "1    366.0\n",
       "2    949.0\n",
       "Name: trip_duraction, dtype: float64"
      ]
     },
     "execution_count": 19,
     "metadata": {},
     "output_type": "execute_result"
    }
   ],
   "source": [
    "target.head(3)"
   ]
  },
  {
   "cell_type": "code",
   "execution_count": 20,
   "metadata": {},
   "outputs": [],
   "source": [
    "## pick_dayofweekのダミー変数化\n",
    "all_explainData = pd.concat([train, fact], axis=0)\n",
    "dummy_col = ['pick_dayofweek']\n",
    "all_explainData = pd.get_dummies(all_explainData, columns = dummy_col, drop_first=False)\n"
   ]
  },
  {
   "cell_type": "code",
   "execution_count": 21,
   "metadata": {},
   "outputs": [
    {
     "data": {
      "text/html": [
       "<div>\n",
       "<style scoped>\n",
       "    .dataframe tbody tr th:only-of-type {\n",
       "        vertical-align: middle;\n",
       "    }\n",
       "\n",
       "    .dataframe tbody tr th {\n",
       "        vertical-align: top;\n",
       "    }\n",
       "\n",
       "    .dataframe thead th {\n",
       "        text-align: right;\n",
       "    }\n",
       "</style>\n",
       "<table border=\"1\" class=\"dataframe\">\n",
       "  <thead>\n",
       "    <tr style=\"text-align: right;\">\n",
       "      <th></th>\n",
       "      <th>pick_latitude</th>\n",
       "      <th>pick_longitude</th>\n",
       "      <th>drop_latitude</th>\n",
       "      <th>drop_longitude</th>\n",
       "      <th>hour</th>\n",
       "      <th>pick_dayofweek_friday</th>\n",
       "      <th>pick_dayofweek_saturday</th>\n",
       "      <th>pick_dayofweek_sunday</th>\n",
       "      <th>pick_dayofweek_weekdays</th>\n",
       "    </tr>\n",
       "  </thead>\n",
       "  <tbody>\n",
       "    <tr>\n",
       "      <th>0</th>\n",
       "      <td>35.708821</td>\n",
       "      <td>139.754566</td>\n",
       "      <td>35.706122</td>\n",
       "      <td>139.768515</td>\n",
       "      <td>11</td>\n",
       "      <td>0</td>\n",
       "      <td>1</td>\n",
       "      <td>0</td>\n",
       "      <td>0</td>\n",
       "    </tr>\n",
       "    <tr>\n",
       "      <th>1</th>\n",
       "      <td>35.659465</td>\n",
       "      <td>139.722541</td>\n",
       "      <td>35.661145</td>\n",
       "      <td>139.730093</td>\n",
       "      <td>12</td>\n",
       "      <td>0</td>\n",
       "      <td>0</td>\n",
       "      <td>0</td>\n",
       "      <td>1</td>\n",
       "    </tr>\n",
       "    <tr>\n",
       "      <th>2</th>\n",
       "      <td>35.688164</td>\n",
       "      <td>139.771702</td>\n",
       "      <td>35.708068</td>\n",
       "      <td>139.732200</td>\n",
       "      <td>14</td>\n",
       "      <td>0</td>\n",
       "      <td>0</td>\n",
       "      <td>0</td>\n",
       "      <td>1</td>\n",
       "    </tr>\n",
       "  </tbody>\n",
       "</table>\n",
       "</div>"
      ],
      "text/plain": [
       "   pick_latitude  pick_longitude  drop_latitude  drop_longitude  hour  \\\n",
       "0      35.708821      139.754566      35.706122      139.768515    11   \n",
       "1      35.659465      139.722541      35.661145      139.730093    12   \n",
       "2      35.688164      139.771702      35.708068      139.732200    14   \n",
       "\n",
       "   pick_dayofweek_friday  pick_dayofweek_saturday  pick_dayofweek_sunday  \\\n",
       "0                      0                        1                      0   \n",
       "1                      0                        0                      0   \n",
       "2                      0                        0                      0   \n",
       "\n",
       "   pick_dayofweek_weekdays  \n",
       "0                        0  \n",
       "1                        1  \n",
       "2                        1  "
      ]
     },
     "execution_count": 21,
     "metadata": {},
     "output_type": "execute_result"
    }
   ],
   "source": [
    "all_explainData.head(3)"
   ]
  },
  {
   "cell_type": "code",
   "execution_count": 22,
   "metadata": {},
   "outputs": [],
   "source": [
    "### 元のサイズにそれぞれ戻す\n",
    "train = all_explainData[:len(train)]\n",
    "fact = all_explainData[len(train):]"
   ]
  },
  {
   "cell_type": "code",
   "execution_count": 23,
   "metadata": {},
   "outputs": [
    {
     "data": {
      "text/html": [
       "<div>\n",
       "<style scoped>\n",
       "    .dataframe tbody tr th:only-of-type {\n",
       "        vertical-align: middle;\n",
       "    }\n",
       "\n",
       "    .dataframe tbody tr th {\n",
       "        vertical-align: top;\n",
       "    }\n",
       "\n",
       "    .dataframe thead th {\n",
       "        text-align: right;\n",
       "    }\n",
       "</style>\n",
       "<table border=\"1\" class=\"dataframe\">\n",
       "  <thead>\n",
       "    <tr style=\"text-align: right;\">\n",
       "      <th></th>\n",
       "      <th>pick_latitude</th>\n",
       "      <th>pick_longitude</th>\n",
       "      <th>drop_latitude</th>\n",
       "      <th>drop_longitude</th>\n",
       "      <th>hour</th>\n",
       "      <th>pick_dayofweek_friday</th>\n",
       "      <th>pick_dayofweek_saturday</th>\n",
       "      <th>pick_dayofweek_sunday</th>\n",
       "      <th>pick_dayofweek_weekdays</th>\n",
       "    </tr>\n",
       "  </thead>\n",
       "  <tbody>\n",
       "    <tr>\n",
       "      <th>0</th>\n",
       "      <td>35.708821</td>\n",
       "      <td>139.754566</td>\n",
       "      <td>35.706122</td>\n",
       "      <td>139.768515</td>\n",
       "      <td>11</td>\n",
       "      <td>0</td>\n",
       "      <td>1</td>\n",
       "      <td>0</td>\n",
       "      <td>0</td>\n",
       "    </tr>\n",
       "    <tr>\n",
       "      <th>1</th>\n",
       "      <td>35.659465</td>\n",
       "      <td>139.722541</td>\n",
       "      <td>35.661145</td>\n",
       "      <td>139.730093</td>\n",
       "      <td>12</td>\n",
       "      <td>0</td>\n",
       "      <td>0</td>\n",
       "      <td>0</td>\n",
       "      <td>1</td>\n",
       "    </tr>\n",
       "    <tr>\n",
       "      <th>2</th>\n",
       "      <td>35.688164</td>\n",
       "      <td>139.771702</td>\n",
       "      <td>35.708068</td>\n",
       "      <td>139.732200</td>\n",
       "      <td>14</td>\n",
       "      <td>0</td>\n",
       "      <td>0</td>\n",
       "      <td>0</td>\n",
       "      <td>1</td>\n",
       "    </tr>\n",
       "  </tbody>\n",
       "</table>\n",
       "</div>"
      ],
      "text/plain": [
       "   pick_latitude  pick_longitude  drop_latitude  drop_longitude  hour  \\\n",
       "0      35.708821      139.754566      35.706122      139.768515    11   \n",
       "1      35.659465      139.722541      35.661145      139.730093    12   \n",
       "2      35.688164      139.771702      35.708068      139.732200    14   \n",
       "\n",
       "   pick_dayofweek_friday  pick_dayofweek_saturday  pick_dayofweek_sunday  \\\n",
       "0                      0                        1                      0   \n",
       "1                      0                        0                      0   \n",
       "2                      0                        0                      0   \n",
       "\n",
       "   pick_dayofweek_weekdays  \n",
       "0                        0  \n",
       "1                        1  \n",
       "2                        1  "
      ]
     },
     "execution_count": 23,
     "metadata": {},
     "output_type": "execute_result"
    }
   ],
   "source": [
    "train.head(3)"
   ]
  },
  {
   "cell_type": "code",
   "execution_count": 24,
   "metadata": {},
   "outputs": [
    {
     "data": {
      "text/html": [
       "<div>\n",
       "<style scoped>\n",
       "    .dataframe tbody tr th:only-of-type {\n",
       "        vertical-align: middle;\n",
       "    }\n",
       "\n",
       "    .dataframe tbody tr th {\n",
       "        vertical-align: top;\n",
       "    }\n",
       "\n",
       "    .dataframe thead th {\n",
       "        text-align: right;\n",
       "    }\n",
       "</style>\n",
       "<table border=\"1\" class=\"dataframe\">\n",
       "  <thead>\n",
       "    <tr style=\"text-align: right;\">\n",
       "      <th></th>\n",
       "      <th>pick_latitude</th>\n",
       "      <th>pick_longitude</th>\n",
       "      <th>drop_latitude</th>\n",
       "      <th>drop_longitude</th>\n",
       "      <th>hour</th>\n",
       "      <th>pick_dayofweek_friday</th>\n",
       "      <th>pick_dayofweek_saturday</th>\n",
       "      <th>pick_dayofweek_sunday</th>\n",
       "      <th>pick_dayofweek_weekdays</th>\n",
       "    </tr>\n",
       "  </thead>\n",
       "  <tbody>\n",
       "    <tr>\n",
       "      <th>0</th>\n",
       "      <td>35.654196</td>\n",
       "      <td>139.722224</td>\n",
       "      <td>35.682485</td>\n",
       "      <td>139.763255</td>\n",
       "      <td>23</td>\n",
       "      <td>0</td>\n",
       "      <td>0</td>\n",
       "      <td>0</td>\n",
       "      <td>1</td>\n",
       "    </tr>\n",
       "    <tr>\n",
       "      <th>1</th>\n",
       "      <td>35.659671</td>\n",
       "      <td>139.695681</td>\n",
       "      <td>35.682289</td>\n",
       "      <td>139.682441</td>\n",
       "      <td>12</td>\n",
       "      <td>0</td>\n",
       "      <td>0</td>\n",
       "      <td>0</td>\n",
       "      <td>1</td>\n",
       "    </tr>\n",
       "    <tr>\n",
       "      <th>2</th>\n",
       "      <td>35.658575</td>\n",
       "      <td>139.697312</td>\n",
       "      <td>35.661905</td>\n",
       "      <td>139.729502</td>\n",
       "      <td>13</td>\n",
       "      <td>1</td>\n",
       "      <td>0</td>\n",
       "      <td>0</td>\n",
       "      <td>0</td>\n",
       "    </tr>\n",
       "  </tbody>\n",
       "</table>\n",
       "</div>"
      ],
      "text/plain": [
       "   pick_latitude  pick_longitude  drop_latitude  drop_longitude  hour  \\\n",
       "0      35.654196      139.722224      35.682485      139.763255    23   \n",
       "1      35.659671      139.695681      35.682289      139.682441    12   \n",
       "2      35.658575      139.697312      35.661905      139.729502    13   \n",
       "\n",
       "   pick_dayofweek_friday  pick_dayofweek_saturday  pick_dayofweek_sunday  \\\n",
       "0                      0                        0                      0   \n",
       "1                      0                        0                      0   \n",
       "2                      1                        0                      0   \n",
       "\n",
       "   pick_dayofweek_weekdays  \n",
       "0                        1  \n",
       "1                        1  \n",
       "2                        0  "
      ]
     },
     "execution_count": 24,
     "metadata": {},
     "output_type": "execute_result"
    }
   ],
   "source": [
    "fact.head(3)"
   ]
  },
  {
   "cell_type": "code",
   "execution_count": 25,
   "metadata": {},
   "outputs": [
    {
     "name": "stderr",
     "output_type": "stream",
     "text": [
      "/Users/onikinagisa/anaconda3/lib/python3.7/site-packages/sklearn/ensemble/forest.py:245: FutureWarning: The default value of n_estimators will change from 10 in version 0.20 to 100 in 0.22.\n",
      "  \"10 in version 0.20 to 100 in 0.22.\", FutureWarning)\n"
     ]
    },
    {
     "data": {
      "text/plain": [
       "RandomForestRegressor(bootstrap=True, criterion='mse', max_depth=None,\n",
       "                      max_features='auto', max_leaf_nodes=None,\n",
       "                      min_impurity_decrease=0.0, min_impurity_split=None,\n",
       "                      min_samples_leaf=1, min_samples_split=2,\n",
       "                      min_weight_fraction_leaf=0.0, n_estimators=10,\n",
       "                      n_jobs=None, oob_score=False, random_state=666, verbose=0,\n",
       "                      warm_start=False)"
      ]
     },
     "execution_count": 25,
     "metadata": {},
     "output_type": "execute_result"
    }
   ],
   "source": [
    "# 学習\n",
    "DT = RandomForestRegressor(random_state=666)\n",
    "DT.fit(train,target)\n"
   ]
  },
  {
   "cell_type": "code",
   "execution_count": 26,
   "metadata": {},
   "outputs": [
    {
     "name": "stdout",
     "output_type": "stream",
     "text": [
      "[1190.7  743.7  894.4 ... 1369.5  657.8 1032.3]\n"
     ]
    }
   ],
   "source": [
    "## 本番予測\n",
    "pred = DT.predict(fact)\n",
    "\n",
    "print(pred)"
   ]
  },
  {
   "cell_type": "code",
   "execution_count": 27,
   "metadata": {},
   "outputs": [],
   "source": [
    "submit['pred'] = pred"
   ]
  },
  {
   "cell_type": "code",
   "execution_count": 28,
   "metadata": {},
   "outputs": [],
   "source": [
    "submit.to_csv('result.csv' ,header=False, index=False)"
   ]
  },
  {
   "cell_type": "code",
   "execution_count": null,
   "metadata": {},
   "outputs": [],
   "source": []
  }
 ],
 "metadata": {
  "kernelspec": {
   "display_name": "Python 3",
   "language": "python",
   "name": "python3"
  },
  "language_info": {
   "codemirror_mode": {
    "name": "ipython",
    "version": 3
   },
   "file_extension": ".py",
   "mimetype": "text/x-python",
   "name": "python",
   "nbconvert_exporter": "python",
   "pygments_lexer": "ipython3",
   "version": "3.7.3"
  }
 },
 "nbformat": 4,
 "nbformat_minor": 2
}
